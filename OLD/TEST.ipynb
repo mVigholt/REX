{
 "cells": [
  {
   "cell_type": "code",
   "execution_count": 58,
   "metadata": {},
   "outputs": [
    {
     "data": {
      "text/plain": [
       "array([5., 0.])"
      ]
     },
     "execution_count": 58,
     "metadata": {},
     "output_type": "execute_result"
    }
   ],
   "source": [
    "# import help as h\n",
    "import numpy as np\n",
    "import math \n",
    "\n",
    "a = -math.pi/2\n",
    "p = np.array([5,5])\n",
    "l = np.array([5,0])\n",
    "g = np.array([5,0])\n",
    "\n",
    "def RotationMatrix(angle): \n",
    "    return np.array([[np.cos(angle), -np.sin(angle)],\n",
    "                     [np.sin(angle), np.cos(angle)]])\n",
    "def ToGlobal(point,angle,localPoint):\n",
    "    return np.dot(RotationMatrix(angle), localPoint) + point\n",
    "def ToLocal(point,angle,globalPoint):\n",
    "    return np.dot(RotationMatrix(-angle), (globalPoint - point))\n",
    "\n",
    "ToGlobal(p,a,l)\n",
    "#ToLocal(p,a,g)"
   ]
  }
 ],
 "metadata": {
  "kernelspec": {
   "display_name": "REX",
   "language": "python",
   "name": "python3"
  },
  "language_info": {
   "codemirror_mode": {
    "name": "ipython",
    "version": 3
   },
   "file_extension": ".py",
   "mimetype": "text/x-python",
   "name": "python",
   "nbconvert_exporter": "python",
   "pygments_lexer": "ipython3",
   "version": "3.12.5"
  }
 },
 "nbformat": 4,
 "nbformat_minor": 2
}
